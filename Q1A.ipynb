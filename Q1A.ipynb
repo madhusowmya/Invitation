{
 "cells": [
  {
   "cell_type": "code",
   "execution_count": 4,
   "metadata": {},
   "outputs": [],
   "source": [
    "import numpy as np # generating random symmetric matric\n",
    "def symmetricmatrix(n):\n",
    "\n",
    "    arr = np.random.randint(2, size=n*n)# randomly generate integers 0,1 of (n*n)\n",
    "\n",
    "    arr = arr.reshape(n,n) #reshaping to n  by n matrix\n",
    "\n",
    "    arr = np.tril(arr) + np.tril(arr, -1).T # because in this case all elements of a matrix are from same distribution (uniform in this case)\n",
    "\n",
    "    return arr"
   ]
  },
  {
   "cell_type": "code",
   "execution_count": 5,
   "metadata": {},
   "outputs": [
    {
     "name": "stdout",
     "output_type": "stream",
     "text": [
      "Enter your value: 20\n",
      "20\n"
     ]
    }
   ],
   "source": [
    "n = int(input(\"Enter your value: \")) \n",
    "print(n)\n",
    "rel = symmetricmatrix(n) #function call relation matrix \n"
   ]
  },
  {
   "cell_type": "code",
   "execution_count": 7,
   "metadata": {},
   "outputs": [
    {
     "name": "stdout",
     "output_type": "stream",
     "text": [
      "[[1 1 1 1 0 1 0 0 1 0 0 0 0 0 0 0 0 1 0 0]\n",
      " [1 1 1 1 1 0 1 0 1 0 0 0 1 1 0 1 0 1 1 0]\n",
      " [1 1 1 0 1 1 1 1 0 0 1 0 0 0 1 0 1 0 0 1]\n",
      " [1 1 0 1 1 0 1 0 0 0 1 1 1 0 1 1 1 1 0 0]\n",
      " [0 1 1 1 1 0 0 0 1 0 0 1 0 1 1 1 0 1 1 1]\n",
      " [1 0 1 0 0 1 0 1 0 1 0 1 1 0 1 1 0 0 1 0]\n",
      " [0 1 1 1 0 0 1 1 1 1 0 0 1 1 1 1 1 0 1 1]\n",
      " [0 0 1 0 0 1 1 1 0 1 1 1 0 0 1 1 0 1 0 1]\n",
      " [1 1 0 0 1 0 1 0 1 1 0 0 0 0 0 1 1 1 1 1]\n",
      " [0 0 0 0 0 1 1 1 1 1 1 1 1 0 0 1 1 1 0 1]\n",
      " [0 0 1 1 0 0 0 1 0 1 1 0 0 1 0 0 0 1 1 1]\n",
      " [0 0 0 1 1 1 0 1 0 1 0 1 0 0 0 0 0 0 1 0]\n",
      " [0 1 0 1 0 1 1 0 0 1 0 0 1 0 1 0 1 1 0 1]\n",
      " [0 1 0 0 1 0 1 0 0 0 1 0 0 1 1 1 1 0 0 0]\n",
      " [0 0 1 1 1 1 1 1 0 0 0 0 1 1 1 1 1 1 1 1]\n",
      " [0 1 0 1 1 1 1 1 1 1 0 0 0 1 1 1 0 1 0 0]\n",
      " [0 0 1 1 0 0 1 0 1 1 0 0 1 1 1 0 1 0 1 0]\n",
      " [1 1 0 1 1 0 0 1 1 1 1 0 1 0 1 1 0 1 0 1]\n",
      " [0 1 0 0 1 1 1 0 1 0 1 1 0 0 1 0 1 0 1 1]\n",
      " [0 0 1 0 1 0 1 1 1 1 1 0 1 0 1 0 0 1 1 1]]\n"
     ]
    }
   ],
   "source": [
    "for i in range(0,len(rel)):\n",
    "    rel[i][i]=1\n",
    "print(rel)#relation between freinds '1' signifies they know each other,'0' represent the opposite."
   ]
  },
  {
   "cell_type": "code",
   "execution_count": null,
   "metadata": {},
   "outputs": [],
   "source": []
  },
  {
   "cell_type": "code",
   "execution_count": 54,
   "metadata": {},
   "outputs": [],
   "source": [
    "k = [] \n",
    "s = []\n",
    "d = []\n",
    "for j in range(0,len(rel)):         # reading row wise in rel matrix \n",
    "    sum =0\n",
    "    arr1 = rel[j] \n",
    "    for i in range(0, len(arr1)):    # reading columns of row   \n",
    "        sum = sum + arr1[i];         # adding the columns\n",
    "    s.append(sum)                    # appending sum to k and k represents the number of friends known to a person.\n",
    "    k.append(sum-1)                  # 1 is removed since it is conditional that for every friend, conditions should be checked,\n",
    "    d.append((n-1)-(sum-1))          # Number of people not known by a person.k = sum-1"
   ]
  },
  {
   "cell_type": "code",
   "execution_count": 55,
   "metadata": {},
   "outputs": [
    {
     "data": {
      "text/plain": [
       "[10, 11, 10, 6, 8, 9, 11, 11, 9, 13, 10, 9, 12, 10, 12, 10, 11, 12, 10, 12]"
      ]
     },
     "execution_count": 55,
     "metadata": {},
     "output_type": "execute_result"
    }
   ],
   "source": [
    "s                                    #sum "
   ]
  },
  {
   "cell_type": "code",
   "execution_count": 56,
   "metadata": {},
   "outputs": [
    {
     "data": {
      "text/plain": [
       "[9, 10, 9, 5, 7, 8, 10, 10, 8, 12, 9, 8, 11, 9, 11, 9, 10, 11, 9, 11]"
      ]
     },
     "execution_count": 56,
     "metadata": {},
     "output_type": "execute_result"
    }
   ],
   "source": [
    "k                                    # k = sum -1 for a person k number of persons who know(excluding the person)\n"
   ]
  },
  {
   "cell_type": "code",
   "execution_count": 57,
   "metadata": {},
   "outputs": [
    {
     "data": {
      "text/plain": [
       "[10, 9, 10, 14, 12, 11, 9, 9, 11, 7, 10, 11, 8, 10, 8, 10, 9, 8, 10, 8]"
      ]
     },
     "execution_count": 57,
     "metadata": {},
     "output_type": "execute_result"
    }
   ],
   "source": [
    "d                                   #for a person no.of people who dont know(d) is atleast no.of people who know(k) \n"
   ]
  },
  {
   "cell_type": "code",
   "execution_count": 58,
   "metadata": {},
   "outputs": [],
   "source": [
    "res = [] #comparing s and d with k\n",
    "for t in range(0,n):\n",
    "    if (d[t]<k[t]): # if d is not atlest k  then they are not invited since d should be  >= k \n",
    "        res.append(0)\n",
    "    else:\n",
    "        res.append(1)\n",
    "        "
   ]
  },
  {
   "cell_type": "code",
   "execution_count": 59,
   "metadata": {},
   "outputs": [
    {
     "data": {
      "text/plain": [
       "[1, 0, 1, 1, 1, 1, 0, 0, 1, 0, 1, 1, 0, 1, 0, 1, 0, 0, 1, 0]"
      ]
     },
     "execution_count": 59,
     "metadata": {},
     "output_type": "execute_result"
    }
   ],
   "source": [
    "res\n"
   ]
  },
  {
   "cell_type": "markdown",
   "metadata": {},
   "source": [
    "Row/column of the matrix where 0 obtained in res is neglected.Therefore, friends who resulted \"1\" in res can be invited to party  "
   ]
  },
  {
   "cell_type": "code",
   "execution_count": 60,
   "metadata": {},
   "outputs": [
    {
     "data": {
      "text/plain": [
       "11"
      ]
     },
     "execution_count": 60,
     "metadata": {},
     "output_type": "execute_result"
    }
   ],
   "source": [
    "res.count(1)"
   ]
  },
  {
   "cell_type": "code",
   "execution_count": 61,
   "metadata": {},
   "outputs": [
    {
     "data": {
      "text/plain": [
       "9"
      ]
     },
     "execution_count": 61,
     "metadata": {},
     "output_type": "execute_result"
    }
   ],
   "source": [
    "res.count(0)"
   ]
  },
  {
   "cell_type": "code",
   "execution_count": null,
   "metadata": {},
   "outputs": [],
   "source": []
  },
  {
   "cell_type": "code",
   "execution_count": null,
   "metadata": {},
   "outputs": [],
   "source": []
  },
  {
   "cell_type": "code",
   "execution_count": null,
   "metadata": {},
   "outputs": [],
   "source": []
  },
  {
   "cell_type": "code",
   "execution_count": null,
   "metadata": {},
   "outputs": [],
   "source": []
  }
 ],
 "metadata": {
  "kernelspec": {
   "display_name": "Python 3",
   "language": "python",
   "name": "python3"
  },
  "language_info": {
   "codemirror_mode": {
    "name": "ipython",
    "version": 3
   },
   "file_extension": ".py",
   "mimetype": "text/x-python",
   "name": "python",
   "nbconvert_exporter": "python",
   "pygments_lexer": "ipython3",
   "version": "3.7.6"
  }
 },
 "nbformat": 4,
 "nbformat_minor": 4
}
